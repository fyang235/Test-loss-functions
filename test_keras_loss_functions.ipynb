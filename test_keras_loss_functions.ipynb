{
 "cells": [
  {
   "cell_type": "code",
   "execution_count": 1,
   "metadata": {},
   "outputs": [
    {
     "name": "stderr",
     "output_type": "stream",
     "text": [
      "Using TensorFlow backend.\n"
     ]
    }
   ],
   "source": [
    "import tensorflow as tf\n",
    "tf.enable_eager_execution()\n",
    "import keras.backend as K\n",
    "import keras\n",
    "import numpy as np"
   ]
  },
  {
   "cell_type": "markdown",
   "metadata": {},
   "source": [
    "# Test  binary classification using"
   ]
  },
  {
   "cell_type": "markdown",
   "metadata": {},
   "source": [
    "    Use keras.losses.binary_crossentropy\n",
    "    predictions should come from sigmoid activatiion"
   ]
  },
  {
   "cell_type": "code",
   "execution_count": 2,
   "metadata": {},
   "outputs": [
    {
     "data": {
      "text/plain": [
       "(<tf.Tensor: id=0, shape=(3, 1), dtype=float32, numpy=\n",
       " array([[0.],\n",
       "        [1.],\n",
       "        [0.]], dtype=float32)>,\n",
       " <tf.Tensor: id=1, shape=(3, 1), dtype=float32, numpy=\n",
       " array([[0.327229  ],\n",
       "        [0.75215155],\n",
       "        [0.16013725]], dtype=float32)>)"
      ]
     },
     "execution_count": 2,
     "metadata": {},
     "output_type": "execute_result"
    }
   ],
   "source": [
    "'''fake data'''\n",
    "a = tf.constant(np.random.randint(0., 2., [3,1]), dtype=tf.float32)\n",
    "b = tf.constant(np.random.random([3,1]), dtype=tf.float32)\n",
    "a, b"
   ]
  },
  {
   "cell_type": "code",
   "execution_count": 3,
   "metadata": {},
   "outputs": [
    {
     "data": {
      "text/plain": [
       "(array([0.3963503 , 0.28481746, 0.1745168 ], dtype=float32), 0.28522816)"
      ]
     },
     "execution_count": 3,
     "metadata": {},
     "output_type": "execute_result"
    }
   ],
   "source": [
    "'''binary_crossentropy'''\n",
    "loss = keras.losses.binary_crossentropy(a, b)\n",
    "loss.numpy(), K.mean(loss).numpy()"
   ]
  },
  {
   "cell_type": "markdown",
   "metadata": {},
   "source": [
    "# Test multi-class classification"
   ]
  },
  {
   "cell_type": "markdown",
   "metadata": {},
   "source": [
    "    Use keras.losses.categorical_crossentropy\n",
    "    predictions should come from softmax activatiion"
   ]
  },
  {
   "cell_type": "code",
   "execution_count": 4,
   "metadata": {},
   "outputs": [
    {
     "data": {
      "text/plain": [
       "(<tf.Tensor: id=29, shape=(3, 2), dtype=float32, numpy=\n",
       " array([[1., 1.],\n",
       "        [0., 1.],\n",
       "        [0., 1.]], dtype=float32)>,\n",
       " <tf.Tensor: id=30, shape=(3, 2), dtype=float32, numpy=\n",
       " array([[0.9231248 , 0.8521743 ],\n",
       "        [0.75054324, 0.11818382],\n",
       "        [0.0120418 , 0.66685826]], dtype=float32)>)"
      ]
     },
     "execution_count": 4,
     "metadata": {},
     "output_type": "execute_result"
    }
   ],
   "source": [
    "'''fake data'''\n",
    "a = tf.constant(np.random.randint(0, 2, [3,2]), dtype=tf.float32)\n",
    "b = tf.constant(np.random.random([3,2]), dtype=tf.float32)\n",
    "a, b"
   ]
  },
  {
   "cell_type": "code",
   "execution_count": 5,
   "metadata": {},
   "outputs": [
    {
     "data": {
      "text/plain": [
       "(array([1.387893 , 1.9947878, 0.0178964], dtype=float32), 1.1335257)"
      ]
     },
     "execution_count": 5,
     "metadata": {},
     "output_type": "execute_result"
    }
   ],
   "source": [
    "'''categorical_crossentropy'''\n",
    "loss = keras.losses.categorical_crossentropy(a, b)\n",
    "loss.numpy(), K.mean(loss).numpy()"
   ]
  },
  {
   "cell_type": "markdown",
   "metadata": {},
   "source": [
    "# Test scalar regression"
   ]
  },
  {
   "cell_type": "markdown",
   "metadata": {},
   "source": [
    "    Use L1, L2 loss\n",
    "    predictions should come from sigmoid activatiion"
   ]
  },
  {
   "cell_type": "code",
   "execution_count": 6,
   "metadata": {},
   "outputs": [
    {
     "data": {
      "text/plain": [
       "(<tf.Tensor: id=50, shape=(3, 1), dtype=float32, numpy=\n",
       " array([[0.06820133],\n",
       "        [0.03455216],\n",
       "        [0.19332492]], dtype=float32)>,\n",
       " <tf.Tensor: id=51, shape=(3, 1), dtype=float32, numpy=\n",
       " array([[0.4572509],\n",
       "        [0.2334912],\n",
       "        [0.2614802]], dtype=float32)>)"
      ]
     },
     "execution_count": 6,
     "metadata": {},
     "output_type": "execute_result"
    }
   ],
   "source": [
    "'''fake data'''\n",
    "a = tf.constant(np.random.random([3,1]), dtype=tf.float32)\n",
    "b = tf.constant(np.random.random([3,1]), dtype=tf.float32)\n",
    "a, b"
   ]
  },
  {
   "cell_type": "code",
   "execution_count": 7,
   "metadata": {},
   "outputs": [
    {
     "data": {
      "text/plain": [
       "(array([0.38904956, 0.19893904, 0.06815529], dtype=float32), 0.21871464)"
      ]
     },
     "execution_count": 7,
     "metadata": {},
     "output_type": "execute_result"
    }
   ],
   "source": [
    "'''L1 loss'''\n",
    "loss = keras.losses.mean_absolute_error(a, b)\n",
    "loss.numpy(), K.mean(loss).numpy()"
   ]
  },
  {
   "cell_type": "code",
   "execution_count": 8,
   "metadata": {},
   "outputs": [
    {
     "data": {
      "text/plain": [
       "(array([0.15135956, 0.03957674, 0.00464514], dtype=float32), 0.06519381)"
      ]
     },
     "execution_count": 8,
     "metadata": {},
     "output_type": "execute_result"
    }
   ],
   "source": [
    "'''L2 loss'''\n",
    "loss = keras.losses.mean_squared_error(a, b)\n",
    "loss.numpy(), K.mean(loss).numpy()"
   ]
  },
  {
   "cell_type": "markdown",
   "metadata": {},
   "source": [
    "# Test vector regression"
   ]
  },
  {
   "cell_type": "markdown",
   "metadata": {},
   "source": [
    "    Use L1, L2, smooth_L1 loss\n",
    "    predictions should come from sigmoid activatiion"
   ]
  },
  {
   "cell_type": "code",
   "execution_count": 9,
   "metadata": {},
   "outputs": [
    {
     "data": {
      "text/plain": [
       "(<tf.Tensor: id=70, shape=(2, 4), dtype=float32, numpy=\n",
       " array([[0.60530937, 0.3320059 , 0.30998054, 0.89274734],\n",
       "        [0.43584523, 0.75255203, 0.46186432, 0.6340625 ]], dtype=float32)>,\n",
       " <tf.Tensor: id=71, shape=(2, 4), dtype=float32, numpy=\n",
       " array([[0.37371716, 0.8641324 , 0.9754876 , 0.36951992],\n",
       "        [0.10038423, 0.3271374 , 0.04779791, 0.90426576]], dtype=float32)>)"
      ]
     },
     "execution_count": 9,
     "metadata": {},
     "output_type": "execute_result"
    }
   ],
   "source": [
    "'''fake data'''\n",
    "a = tf.constant(np.random.random([2,4]), dtype=tf.float32)\n",
    "b = tf.constant(np.random.random([2,4]), dtype=tf.float32)\n",
    "a, b"
   ]
  },
  {
   "cell_type": "code",
   "execution_count": 10,
   "metadata": {},
   "outputs": [
    {
     "data": {
      "text/plain": [
       "(array([0.4881133, 0.3612863], dtype=float32), 0.4246998)"
      ]
     },
     "execution_count": 10,
     "metadata": {},
     "output_type": "execute_result"
    }
   ],
   "source": [
    "'''L1 loss'''\n",
    "loss = keras.losses.mean_absolute_error(a, b)\n",
    "loss.numpy(), K.mean(loss).numpy()"
   ]
  },
  {
   "cell_type": "code",
   "execution_count": 11,
   "metadata": {},
   "outputs": [
    {
     "data": {
      "text/plain": [
       "(array([0.26336506, 0.13449311], dtype=float32), 0.19892909)"
      ]
     },
     "execution_count": 11,
     "metadata": {},
     "output_type": "execute_result"
    }
   ],
   "source": [
    "'''L2 loss'''\n",
    "loss = keras.losses.mean_squared_error(a, b)\n",
    "loss.numpy(), K.mean(loss).numpy()"
   ]
  },
  {
   "cell_type": "code",
   "execution_count": 12,
   "metadata": {
    "collapsed": true
   },
   "outputs": [],
   "source": [
    "'''smooth_L1 lossm (actually this is Huber loss)'''\n",
    "def smooth_l1_loss(y_true, y_pred):\n",
    "    '''\n",
    "    inputs:\n",
    "        y_true: [n, 1]\n",
    "        y_pred: [n, 1]\n",
    "    '''    \n",
    "    diff = K.abs(y_true - y_pred)\n",
    "    less_than_one = K.cast(K.less(diff, 1.0), \"float32\")\n",
    "    loss = (less_than_one * 0.5 * diff**2) + (1 - less_than_one) * (diff - 0.5)\n",
    "    return K.sum(loss, axis=1)\n"
   ]
  },
  {
   "cell_type": "code",
   "execution_count": 13,
   "metadata": {},
   "outputs": [
    {
     "data": {
      "text/plain": [
       "(array([0.5267301 , 0.26898623], dtype=float32), 0.39785817)"
      ]
     },
     "execution_count": 13,
     "metadata": {},
     "output_type": "execute_result"
    }
   ],
   "source": [
    "loss = smooth_l1_loss(a, b)\n",
    "loss.numpy(), K.mean(loss).numpy()"
   ]
  },
  {
   "cell_type": "code",
   "execution_count": null,
   "metadata": {
    "collapsed": true
   },
   "outputs": [],
   "source": []
  }
 ],
 "metadata": {
  "kernelspec": {
   "display_name": "Python 3",
   "language": "python",
   "name": "python3"
  },
  "language_info": {
   "codemirror_mode": {
    "name": "ipython",
    "version": 3
   },
   "file_extension": ".py",
   "mimetype": "text/x-python",
   "name": "python",
   "nbconvert_exporter": "python",
   "pygments_lexer": "ipython3",
   "version": "3.6.2"
  }
 },
 "nbformat": 4,
 "nbformat_minor": 2
}
